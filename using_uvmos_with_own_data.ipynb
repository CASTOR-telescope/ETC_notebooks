{
 "cells": [
  {
   "cell_type": "markdown",
   "id": "9c5e76c2",
   "metadata": {},
   "source": [
    "# CASTOR UVMOS Spectrograph ETC Example With Own File"
   ]
  },
  {
   "cell_type": "markdown",
   "id": "09d5fcf8",
   "metadata": {},
   "source": [
    "This notebook will give another example on how to use CASTORs UVMOS. This example uses a file with synthetic M star flare data in wavelength and flux. This was used to see how well CASTOR would be able to observe flares from dim M stars, how long it might take to reach a certain Signal-to-Noise ratio or what that ratio may be after a certain amount of observing time. "
   ]
  },
  {
   "cell_type": "code",
   "execution_count": 1,
   "id": "c14f6975",
   "metadata": {},
   "outputs": [
    {
     "ename": "ModuleNotFoundError",
     "evalue": "No module named 'castor_etc'",
     "output_type": "error",
     "traceback": [
      "\u001b[1;31m---------------------------------------------------------------------------\u001b[0m",
      "\u001b[1;31mModuleNotFoundError\u001b[0m                       Traceback (most recent call last)",
      "\u001b[1;32m~\\AppData\\Local\\Temp\\ipykernel_28684\\2226031220.py\u001b[0m in \u001b[0;36m<module>\u001b[1;34m\u001b[0m\n\u001b[0;32m      5\u001b[0m \u001b[1;32mfrom\u001b[0m \u001b[0mastropy\u001b[0m \u001b[1;32mimport\u001b[0m \u001b[0mconstants\u001b[0m \u001b[1;32mas\u001b[0m \u001b[0mconst\u001b[0m\u001b[1;33m\u001b[0m\u001b[1;33m\u001b[0m\u001b[0m\n\u001b[0;32m      6\u001b[0m \u001b[1;33m\u001b[0m\u001b[0m\n\u001b[1;32m----> 7\u001b[1;33m \u001b[1;32mfrom\u001b[0m \u001b[0mcastor_etc\u001b[0m\u001b[1;33m.\u001b[0m\u001b[0mbackground\u001b[0m \u001b[1;32mimport\u001b[0m \u001b[0mBackground\u001b[0m\u001b[1;33m\u001b[0m\u001b[1;33m\u001b[0m\u001b[0m\n\u001b[0m\u001b[0;32m      8\u001b[0m \u001b[1;32mfrom\u001b[0m \u001b[0mcastor_etc\u001b[0m\u001b[1;33m.\u001b[0m\u001b[0mphotometry\u001b[0m \u001b[1;32mimport\u001b[0m \u001b[0mPhotometry\u001b[0m\u001b[1;33m\u001b[0m\u001b[1;33m\u001b[0m\u001b[0m\n\u001b[0;32m      9\u001b[0m \u001b[1;32mfrom\u001b[0m \u001b[0mcastor_etc\u001b[0m\u001b[1;33m.\u001b[0m\u001b[0msources\u001b[0m \u001b[1;32mimport\u001b[0m \u001b[0mExtendedSource\u001b[0m\u001b[1;33m,\u001b[0m \u001b[0mGalaxySource\u001b[0m\u001b[1;33m,\u001b[0m \u001b[0mPointSource\u001b[0m\u001b[1;33m\u001b[0m\u001b[1;33m\u001b[0m\u001b[0m\n",
      "\u001b[1;31mModuleNotFoundError\u001b[0m: No module named 'castor_etc'"
     ]
    }
   ],
   "source": [
    "import matplotlib\n",
    "import astropy.units as u\n",
    "import matplotlib.pyplot as plt\n",
    "import numpy as np\n",
    "from astropy import constants as const\n",
    "\n",
    "from castor_etc.background import Background\n",
    "from castor_etc.photometry import Photometry\n",
    "from castor_etc.sources import ExtendedSource, GalaxySource, PointSource\n",
    "from castor_etc.telescope import Telescope\n",
    "\n",
    "from castor_etc.uvmos_spectroscopy import UVMOS_Spectroscopy\n",
    "\n",
    "import pandas as pd\n",
    "import matplotlib.pyplot as plt\n",
    "import math "
   ]
  },
  {
   "cell_type": "markdown",
   "id": "3ae25560",
   "metadata": {},
   "source": [
    "## Step 1) Describe the telescope"
   ]
  },
  {
   "cell_type": "markdown",
   "id": "98280558",
   "metadata": {},
   "source": [
    "First specify the telescope parameters by creating a `Telescope` object. All aspects of the telescope are customizable. For the UVMOS-ETC, you may wish to change the the full width at half-maximum of the telescope's point spread function, the pixel scale, the dark current, or the read noise.\n",
    "\n",
    "Ex) To initialize a `Telescope` object with a specific dark current:\n",
    "\n",
    "MyTelescope = Telescope( dark_current = 0.01 )\n",
    "Ex) To change the dark current of an existing `Telescope` object:\n",
    "\n",
    "MyTelescope.dark_current = 0.01 "
   ]
  },
  {
   "cell_type": "code",
   "execution_count": 4,
   "id": "8d0bb06d",
   "metadata": {},
   "outputs": [
    {
     "ename": "NameError",
     "evalue": "name 'Telescope' is not defined",
     "output_type": "error",
     "traceback": [
      "\u001b[1;31m---------------------------------------------------------------------------\u001b[0m",
      "\u001b[1;31mNameError\u001b[0m                                 Traceback (most recent call last)",
      "\u001b[1;32m~\\AppData\\Local\\Temp\\ipykernel_28972\\4046696552.py\u001b[0m in \u001b[0;36m<module>\u001b[1;34m\u001b[0m\n\u001b[1;32m----> 1\u001b[1;33m \u001b[0mMyTelescope\u001b[0m \u001b[1;33m=\u001b[0m \u001b[0mTelescope\u001b[0m\u001b[1;33m(\u001b[0m\u001b[1;33m)\u001b[0m\u001b[1;33m\u001b[0m\u001b[1;33m\u001b[0m\u001b[0m\n\u001b[0m\u001b[0;32m      2\u001b[0m \u001b[0mMyTelescope\u001b[0m\u001b[1;33m.\u001b[0m\u001b[0mdark_current\u001b[0m \u001b[1;33m=\u001b[0m \u001b[1;36m0.01\u001b[0m\u001b[1;33m\u001b[0m\u001b[1;33m\u001b[0m\u001b[0m\n\u001b[0;32m      3\u001b[0m \u001b[0mprint\u001b[0m\u001b[1;33m(\u001b[0m\u001b[1;34m'Mirror Area:  {:.3f}'\u001b[0m\u001b[1;33m.\u001b[0m\u001b[0mformat\u001b[0m\u001b[1;33m(\u001b[0m \u001b[0mMyTelescope\u001b[0m\u001b[1;33m.\u001b[0m\u001b[0mmirror_area\u001b[0m \u001b[1;33m)\u001b[0m\u001b[1;33m)\u001b[0m\u001b[1;33m\u001b[0m\u001b[1;33m\u001b[0m\u001b[0m\n\u001b[0;32m      4\u001b[0m \u001b[1;33m\u001b[0m\u001b[0m\n\u001b[0;32m      5\u001b[0m \u001b[0mprint\u001b[0m\u001b[1;33m(\u001b[0m\u001b[1;34m'Pixel Scale:  {:.3f}'\u001b[0m\u001b[1;33m.\u001b[0m\u001b[0mformat\u001b[0m\u001b[1;33m(\u001b[0m \u001b[0mMyTelescope\u001b[0m\u001b[1;33m.\u001b[0m\u001b[0mpx_scale\u001b[0m \u001b[1;33m)\u001b[0m\u001b[1;33m)\u001b[0m\u001b[1;33m\u001b[0m\u001b[1;33m\u001b[0m\u001b[0m\n",
      "\u001b[1;31mNameError\u001b[0m: name 'Telescope' is not defined"
     ]
    }
   ],
   "source": [
    "MyTelescope = Telescope()\n",
    "MyTelescope.dark_current = 0.01 \n",
    "print('Mirror Area:  {:.3f}'.format( MyTelescope.mirror_area ))\n",
    "\n",
    "print('Pixel Scale:  {:.3f}'.format( MyTelescope.px_scale ))\n",
    "\n",
    "print('Pixel Area:  {:.3f}'.format( MyTelescope.px_area ))\n",
    "\n",
    "print('Read Noise:   {:.3f}'.format( MyTelescope.read_noise ))\n",
    "\n",
    "print('Dark Current  {:.3f}'.format( MyTelescope.dark_current ))"
   ]
  },
  {
   "cell_type": "markdown",
   "id": "330c182f",
   "metadata": {},
   "source": [
    "## Step 2) Characterize the background"
   ]
  },
  {
   "cell_type": "markdown",
   "id": "222fa569",
   "metadata": {},
   "source": [
    "By default, the `Background` object uses spectra from HST that give average Earthshine and zodiacal light values"
   ]
  },
  {
   "cell_type": "code",
   "execution_count": null,
   "id": "53050090",
   "metadata": {},
   "outputs": [],
   "source": [
    "MyBackground = Background()"
   ]
  },
  {
   "cell_type": "markdown",
   "id": "447f7617",
   "metadata": {},
   "source": [
    "## Step 3) Read in the File"
   ]
  },
  {
   "cell_type": "markdown",
   "id": "18a8778e",
   "metadata": {},
   "source": [
    "There are two ways that you can use your own data with the UVMOS.\n",
    "1) `set_spectrum` requires you to load your data into two 1D arrays. The first array contains your wavelength data in angstroms. The second array contains the flux data in either erg/s/cm^2/A, erg/s/cm^2/Hz, AB magnitude, or ST magnitude. You must then specify which flux unit you chose with the key words listed in the function below. (I personally used this method. I first changed my data into pandas dataframes then into two 1D arrays.)\n",
    "\n",
    "   \n",
    "\n",
    "3) `use_custom_spectrum` uses an ASCII or FITS file. (I had difficulties with this way but I will explain how to use in the steps below.)"
   ]
  },
  {
   "cell_type": "markdown",
   "id": "ca30572e",
   "metadata": {},
   "source": [
    "### Simulate the Source: Method 1.\n",
    "This is where I will read in the data. Before reading in the data make sure your file containing the wavelength and flux spectra is added to the same file as this code. I am using CANFAR so I have this Jupyter notebook and my data saved in the same file on the left hand side in the file folder tab, this file path being arc/home/your_user_name. I used pandas dataframes to change my csv file into two 1D numpy arrays."
   ]
  },
  {
   "cell_type": "code",
   "execution_count": null,
   "id": "0686a952",
   "metadata": {},
   "outputs": [],
   "source": [
    "#Read csv file into df, my data is spectra from M stars with differnt flare intensities.\n",
    "df = pd.read_csv(\"650Myr_0.35M_Median.csv\")\n",
    "\n",
    "\n",
    "###########################################################\n",
    "#You may skip this section as my data had duplicate wavelengths which needed to be removed.\n",
    "\n",
    "# Drop duplicates in 'Column1', keeping the first occurrence, this will also drop the attahced flux as well\n",
    "# df_no_duplicates = df.drop_duplicates(subset=['Wavelength (Ang)'], keep='first')\n",
    "# Turns the two column df into two 1D arrays\n",
    "# wavelength = df_no_duplicates['Wavelength (Ang)'].to_numpy()\n",
    "# flux = df_no_duplicates['Flux Density (erg/cm2/s/Ang)'].to_numpy()\n",
    "\n",
    "###########################################################\n",
    "\n",
    "\n",
    "#For the df function to work the titles of your colums must match 'Wavelength (Ang)' and 'Flux Density (erg/cm2/s/Ang)'\n",
    "#If this is not the case change the titles below to reflect your file.\n",
    "wavelength = df['Wavelength (Ang)'].to_numpy()\n",
    "flux = df['Flux Density (erg/cm2/s/Ang)'].to_numpy()\n",
    "\n",
    "\n",
    "\n",
    "#This function is found in the Githhub under ETC=> castor_etc=> spectrum.py\n",
    "def set_spectrum(self, wavelengths, spectrum, unit, overwrite=False, quiet=False):\n",
    "        \"\"\"\n",
    "        Set the spectrum of the source based on the input arrays. To use a spectrum from a\n",
    "        file, see the `use_custom_spectrum()` method.\n",
    "\n",
    "        The input spectrum should have units of either flam (erg/s/cm^2/A), fnu\n",
    "        (erg/s/cm^2/Hz), ABmag (AB magnitude), or STmag (ST magnitude). Note that the\n",
    "        computed (and stored) spectrum will always be in units of flam.\n",
    "\n",
    "        Parameters\n",
    "        ----------\n",
    "          wavelengths :: array of scalars or `astropy.Quantity` array\n",
    "            The wavelengths over which to generate the uniform spectrum. If an array of\n",
    "            scalars, it should be in angstrom. This should be a 1D array with the same\n",
    "            length as the `spectrum` array.\n",
    "\n",
    "          specturm :: array of scalars\n",
    "            The value of the spectrum at the given wavelengths, in units of `unit`. This\n",
    "            should be a 1D array with the same length as the `wavelengths` array.\n",
    "\n",
    "          unit :: \"flam\" or \"fnu\" or \"ABmag\" or \"STmag\"\n",
    "            The unit of the `spectrum` array: either flam (erg/s/cm^2/A), fnu\n",
    "            (erg/s/cm^2/Hz), ABmag (AB magnitude), or STmag (ST magnitude).\n",
    "\n",
    "          overwrite :: bool\n",
    "            If True, overwrite any existing wavelengths/spectrum. If False, raise an error\n",
    "            if wavelengths or spectrum is not None.\n",
    "\n",
    "          quiet :: bool\n",
    "            If True, do not print a message when overwriting an existing spectrum.\n",
    "\n",
    "        Attributes\n",
    "        ----------\n",
    "          wavelengths :: astropy.Quantity` array\n",
    "            The given wavelengths of the spectrum, converted into units of angstrom.\n",
    "\n",
    "          spectrum :: array of floats\n",
    "            The given spectrum, converted into units of erg/s/cm^2/A.\n",
    "\n",
    "        Returns\n",
    "        -------\n",
    "          None\n",
    "        \"\"\"\n",
    "        #\n",
    "        # Check inputs\n",
    "        #\n",
    "        self._check_existing_spectrum(overwrite, quiet=quiet)\n",
    "        if not isinstance(wavelengths, u.Quantity):\n",
    "            wavelengths = wavelengths * u.AA\n",
    "        else:\n",
    "            wavelengths = wavelengths.to(u.AA)\n",
    "        if isinstance(spectrum, u.Quantity):\n",
    "            raise TypeError(\"`spectrum` must be an array of scalars\")\n",
    "        if np.shape(spectrum) != np.shape(wavelengths) or np.ndim(spectrum) != 1:\n",
    "            raise ValueError(\n",
    "                \"`wavelengths` and `spectrum` must be 1D arrays of the same shape\"\n",
    "            )\n",
    "        if unit not in [\"flam\", \"fnu\", \"ABmag\", \"STmag\"]:\n",
    "            raise ValueError(\"`unit` must be one of 'flam', 'fnu', 'ABmag', or 'STmag'\")\n",
    "        if unit == \"flam\" or unit == \"fnu\":\n",
    "            if np.any(spectrum) <= 0:\n",
    "                raise ValueError(\n",
    "                    \"All `spectrum` values must be > 0 if `unit` is 'flam' or 'fnu'\"\n",
    "                )\n",
    "        #\n",
    "        # Convert spectrum to units of flam (erg/s/cm^2/A)\n",
    "        #\n",
    "        if unit == \"fnu\":\n",
    "            spectrum = fnu_to_flam(\n",
    "                fnu=spectrum, wavelength=wavelengths, fnu_err=0.0, wavelength_err=0.0\n",
    "            )[0]\n",
    "        elif unit == \"ABmag\":\n",
    "            # Convert to fnu\n",
    "            spectrum = mag_to_flux(mag=spectrum, mag_err=0.0, zpt=-48.60)[0]\n",
    "            # Convert fnu to flam\n",
    "            spectrum = fnu_to_flam(\n",
    "                fnu=spectrum, wavelength=wavelengths, fnu_err=0.0, wavelength_err=0.0\n",
    "            )[0]\n",
    "        elif unit == \"STmag\":\n",
    "            # Convert directly to flam\n",
    "            spectrum = mag_to_flux(mag=spectrum, mag_err=0.0, zpt=-21.10)[0]\n",
    "        self.wavelengths = wavelengths\n",
    "        self.spectrum = spectrum\n",
    "\n",
    "\n",
    "MySource = PointSource()\n",
    "#My data had wavelength values from 0 Ang up to 55000 Ang. CASTORs bandwidth is from 1500 Ang to 5500 Ang.\n",
    "#To reflect this I sliced the index, these values may be different for you.\n",
    "MySource.set_spectrum(wavelengths = wavelength[94866:595683], spectrum = flux[94866:595683], unit = \"flam\")\n",
    "\n",
    "MySource.norm_to_AB_mag(10)\n",
    "MySource.show_spectrum()"
   ]
  },
  {
   "cell_type": "markdown",
   "id": "8bdabdb6",
   "metadata": {},
   "source": [
    "### Simulate the Source: Method 2.\n",
    "This method requires your file be in ASCII or FITS file format. The ASCII and FITS must have wavelength in either angstrom, nanomenter or micrometer, just specify which unit when calling the function. Flux must be in erg/s/cm^2/A. "
   ]
  },
  {
   "cell_type": "code",
   "execution_count": null,
   "id": "629fe2c0",
   "metadata": {},
   "outputs": [],
   "source": [
    "#This function is found in the Githhub under ETC=> castor_etc=> spectrum.py\n",
    "def use_custom_spectrum(\n",
    "        self, filepath, wavelength_unit=u.AA, overwrite=False, quiet=False\n",
    "    ):\n",
    "        \"\"\"\n",
    "        Use custom spectrum from an ASCII or FITS file. To use a spectrum from an array,\n",
    "        use the `set_spectrum()` method.\n",
    "\n",
    "        Parameters\n",
    "        ----------\n",
    "          filepath :: str\n",
    "            The absolute path to the file containing the spectrum.\n",
    "            If the file is in ASCII format, the first column should contain the\n",
    "            wavelengths in `wavelength_units` and the second column containing the\n",
    "            spectrum in flam (erg/s/cm^2/A); the columns should be separated by a constant\n",
    "            number of spaces. Lines starting with a hash (#) will be ignored. The file\n",
    "            extension must not be .fit or .fits.\n",
    "            If the file is in FITS format, the first field (index 0) should contain the\n",
    "            wavelengths in `wavelength_units` and the second field (index 1) should\n",
    "            contain the spectrum in flam (erg/s/cm^2/A). The file extension must be .fit\n",
    "            or .fits.\n",
    "\n",
    "          wavelength_unit :: `astropy.Quantity` length unit\n",
    "            The unit of the wavelengths in the file (e.g., u.AA for angstrom, u.nm for\n",
    "            nanometer, u.um for micrometer, etc.)\n",
    "\n",
    "          overwrite :: bool\n",
    "            If True, overwrite any existing wavelengths/spectrum. If False, raise an error\n",
    "            if wavelengths or spectrum is not None.\n",
    "\n",
    "          quiet :: bool\n",
    "            If True, do not print a message when overwriting an existing spectrum.\n",
    "\n",
    "        Attributes\n",
    "        ----------\n",
    "          wavelengths :: `astropy.Quantity` array\n",
    "            The wavelengths of the spectrum, in angstroms.\n",
    "\n",
    "          spectrum :: array of floats\n",
    "            Source spectrum in units of flam (erg/s/cm^2/A).\n",
    "\n",
    "        Returns\n",
    "        -------\n",
    "          None\n",
    "        \"\"\"\n",
    "        #\n",
    "        # Check inputs\n",
    "        #\n",
    "        self._check_existing_spectrum(overwrite, quiet=quiet)\n",
    "        if not isinstance(filepath, str):\n",
    "            raise TypeError(\"filepath must be a string.\")\n",
    "        try:\n",
    "            _ = wavelength_unit.to(u.AA)\n",
    "        except Exception:\n",
    "            raise TypeError(\"wavelength_units must be an `astropy.Quantity` length unit.\")\n",
    "        #\n",
    "        # Load spectrum\n",
    "        #\n",
    "        file_ext = filepath.split(\".\")[-1].lower()\n",
    "        try:\n",
    "            if file_ext == \"fit\" or file_ext == \"fits\":\n",
    "                data = fits.getdata(filepath)\n",
    "                self.wavelengths = (data.field(0)[0] * wavelength_unit).to(u.AA)\n",
    "                # Dhananjhay's comment for `data.field(1)` below - index 0 to access the\n",
    "                # corresponding arrays; data variable contains embedded arrays\n",
    "                self.spectrum = data.field(1)[0]\n",
    "            else:\n",
    "                data = pd.read_csv(\n",
    "                    filepath,\n",
    "                    sep=r\"\\s+\",\n",
    "                    header=None,\n",
    "                    comment=\"#\",\n",
    "                    engine=\"python\",\n",
    "                )  # sep=\" +\" is Python regex to match a variable number of spaces\n",
    "                self.wavelengths = (data[0].values * wavelength_unit).to(u.AA)\n",
    "                self.spectrum = data[1].values\n",
    "        except Exception:\n",
    "            raise RuntimeError(\n",
    "                \"Could not read spectrum from file. File must be in ASCII or FITS format \"\n",
    "                + \"and adhere to the guidelines specified in the docstring.\"\n",
    "            )\n",
    "\n",
    "file_path = \"your_file_name.txt\"\n",
    "# MySource = PointSource()\n",
    "# MySource.use_custom_spectrum(file_path, wavelengt_unit = u.AA, overwrite=False, quiet=False)\n",
    "\n",
    "# MySource.norm_to_AB_mag(10)\n",
    "# MySource.show_spectrum()"
   ]
  },
  {
   "cell_type": "markdown",
   "id": "ca2018ed",
   "metadata": {},
   "source": [
    "## Step 5) Do spectroscopy"
   ]
  },
  {
   "cell_type": "code",
   "execution_count": null,
   "id": "8e591fa8",
   "metadata": {},
   "outputs": [],
   "source": [
    "#Create Spectroscopy object\n",
    "MySpec = UVMOS_Spectroscopy(MyTelescope, MySource, MyBackground)"
   ]
  },
  {
   "cell_type": "markdown",
   "id": "b402c1cc",
   "metadata": {},
   "source": [
    "By default, the spectral range of is set to be 150nm to 300nm. This may be changed by setting `MySpec.min_wave` or `MySpec.max_wave` to some number with a wavelength unit in angstroms. \n",
    "\n",
    "For example:\n",
    "```Python\n",
    "MySpec.min_wave = (150 * u.nm).to(u.AA)\n",
    "MySpec.max_wave = (300 * u.nm).to(u.AA)\n",
    "```\n",
    "\n",
    "\n",
    "In order to do slit spectroscopy, a slit must be chosen.\n",
    "By default, a slit with a width of 0.214\" and height of 1\" is used. Change the slit width and / or height.\n",
    "\n",
    "For example: \n",
    "```Python\n",
    "MySpec.specify_slit(slit_width = 0.15 * u.arcsec, slit_height = 0.5 * u.arcsec   )\n",
    "```"
   ]
  },
  {
   "cell_type": "code",
   "execution_count": null,
   "id": "cb6fa430",
   "metadata": {},
   "outputs": [],
   "source": [
    "# Specify the slit\n",
    "MySpec.specify_slit()\n",
    "\n",
    "# Optional: Show the source as viewed through the slit\n",
    "MySpec.show_slit()\n",
    "\n",
    "# Optional: Show a single image of the slit on the detector\n",
    "MySpec.show_source_pix_weights()"
   ]
  },
  {
   "cell_type": "markdown",
   "id": "493aef3c",
   "metadata": {},
   "source": [
    "By default, the extraction box is set to a width of 1 pixel along the wavelength axis, and extends along the entire spatial axis. The extraction box may be changed by passing the desired values to calculate CASTOR spectra functions. \n",
    "\n",
    "For example:\n",
    "```Python\n",
    "MySpec.calc_source_CASTORSpectrum(extraction_width=2, extraction_lowerlim=4, extraction_upperlim = 7)\n",
    "```"
   ]
  },
  {
   "cell_type": "code",
   "execution_count": null,
   "id": "c28160d7",
   "metadata": {},
   "outputs": [],
   "source": [
    "MySpec.calc_source_CASTORSpectrum(extraction_width=1, extraction_lowerlim=4, extraction_upperlim = 7)\n",
    "MySpec.calc_background_CASTORSpectrum(extraction_width=1, extraction_lowerlim=4, extraction_upperlim = 7)\n",
    "\n",
    "\n",
    "# Optional: Visualize the source and background spectra on the detector\n",
    "plt.figure(figsize=(100,3))\n",
    "\n",
    "ax1 = plt.subplot(211)\n",
    "plt.imshow(MySpec.source_detector,origin='lower',cmap='magma',aspect='auto')\n",
    "plt.title('Source Spectrum on Detector')\n",
    "plt.xlabel('Pixel')\n",
    "plt.ylabel('Pixel')\n",
    "ax1.set_aspect('equal')\n",
    "\n",
    "\n",
    "ax2 = plt.subplot(212, sharex=ax1, sharey=ax1)\n",
    "plt.imshow(MySpec.background_detector*MySpec.source_extracted_numpixs,origin='lower',cmap='magma',aspect='auto', vmin=min(MySpec.source_detector.flatten()), vmax=max(MySpec.source_detector.flatten()))\n",
    "plt.title('Background Spectrum on Detector')\n",
    "plt.xlabel('Pixel')\n",
    "plt.ylabel('Pixel')\n",
    "ax2.set_aspect('equal')\n",
    "\n",
    "\n",
    "\n",
    "# Optional: Visualize the source and background \n",
    "plt.figure(figsize=(10,4))\n",
    "ax = plt.subplot(111)\n",
    "plt.plot(MySpec.waves_CASTORSpectrum, MySpec.source_CASTORSpectrum,'-',label='Source Spectrum')\n",
    "\n",
    "plt.plot(MySpec.waves_CASTORSpectrum, MySpec.background_CASTORSpectrum*MySpec.source_extracted_numpixs,'-',label='Background Spectrum')\n",
    "\n",
    "plt.title('CASTOR Spectra')\n",
    "plt.xlabel('Wavelength '+r'[$\\AA$]')\n",
    "plt.ylabel('Flux [counts / second ]')\n",
    "plt.grid(alpha=0.5)\n",
    "plt.legend()\n",
    "#plt.savefig('650Myr_0.35M_Minimum.png')"
   ]
  },
  {
   "cell_type": "markdown",
   "id": "d6c2c96d",
   "metadata": {},
   "source": [
    "## Determine Exposure Time and Signal-to-Noise Ratio"
   ]
  },
  {
   "cell_type": "markdown",
   "id": "40cbeaa1",
   "metadata": {},
   "source": [
    "When determining the SNR keep in mind the object you are looking at, for bright objects a lower SNR is fine, for this notebook my data is synthetic M dwarf star flare data. These are very dim objects and require a much larger SNR of 50-100. You also want to have some knowledge of what wavelength to look at. For M stars, Mg II k and h are the strongest emmision lines seen in the UV so I have chosen them as my 'wave' value. If you choose a wave that is not present in the 'CASTOR Spectra' above you will have very poor SNR values."
   ]
  },
  {
   "cell_type": "markdown",
   "id": "c66449ed",
   "metadata": {},
   "source": [
    "**650 Myr 0.35 Mass of Sun: Determine Exposure time for Mg II k or 2803.53 Angstrum**\n"
   ]
  },
  {
   "cell_type": "code",
   "execution_count": null,
   "id": "688a2c4e",
   "metadata": {},
   "outputs": [],
   "source": [
    "t = 100 # seconds\n",
    "wave = 2803.53 # angstroms\n",
    "snr = MySpec.calc_snr_from_t(t, wave)\n",
    "print('After an exposure time of {:.3f} seconds a SNR of {:.3f} is reached at a wavelength of {} angstroms'.format(t,snr, wave))"
   ]
  },
  {
   "cell_type": "code",
   "execution_count": null,
   "id": "6340b51d",
   "metadata": {},
   "outputs": [],
   "source": [
    "snr = 50  \n",
    "wave = 2803.53 # angstroms\n",
    "t = MySpec.calc_t_from_snr(snr, wave)\n",
    "print('An exposure time of {:.3g} seconds is required to reach a SNR of {:.3f} at a wavelength of {} angstroms'.format(t,snr, wave))"
   ]
  },
  {
   "cell_type": "markdown",
   "id": "e5c24d7a",
   "metadata": {},
   "source": [
    "**650 Myr 0.35 Mass of Sun: Determine Exposure time for Mg II h or 2796.35 Angstrum**"
   ]
  },
  {
   "cell_type": "code",
   "execution_count": null,
   "id": "dcf61e3e",
   "metadata": {},
   "outputs": [],
   "source": [
    "t = 100 # seconds\n",
    "wave = 2796.35 # angstroms\n",
    "snr = MySpec.calc_snr_from_t(t, wave)\n",
    "print('After an exposure time of {:.3f} seconds a SNR of {:.3f} is reached at a wavelength of {} angstroms'.format(t,snr, wave))"
   ]
  },
  {
   "cell_type": "code",
   "execution_count": null,
   "id": "785610cb",
   "metadata": {},
   "outputs": [],
   "source": [
    "snr = 50  \n",
    "wave = 2796.35 # angstroms\n",
    "t = MySpec.calc_t_from_snr(snr, wave)\n",
    "print('An exposure time of {:.3g} seconds is required to reach a SNR of {:.3f} at a wavelength of {} angstroms'.format(t,snr, wave))"
   ]
  }
 ],
 "metadata": {
  "kernelspec": {
   "display_name": "base",
   "language": "python",
   "name": "python3"
  },
  "language_info": {
   "codemirror_mode": {
    "name": "ipython",
    "version": 3
   },
   "file_extension": ".py",
   "mimetype": "text/x-python",
   "name": "python",
   "nbconvert_exporter": "python",
   "pygments_lexer": "ipython3",
   "version": "3.9.13"
  }
 },
 "nbformat": 4,
 "nbformat_minor": 5
}
